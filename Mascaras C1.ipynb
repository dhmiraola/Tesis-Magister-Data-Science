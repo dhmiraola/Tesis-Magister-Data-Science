{
 "cells": [
  {
   "cell_type": "code",
   "execution_count": 1,
   "id": "eb21dcb5",
   "metadata": {},
   "outputs": [
    {
     "name": "stdout",
     "output_type": "stream",
     "text": [
      "Imagen guardada en: C:\\cecs\\mascaras\\probando\\series_tiempo\\mascarasc1\\anexo_mascaras_grupo_1.png\n",
      "Imagen guardada en: C:\\cecs\\mascaras\\probando\\series_tiempo\\mascarasc1\\anexo_mascaras_grupo_2.png\n",
      "Imagen guardada en: C:\\cecs\\mascaras\\probando\\series_tiempo\\mascarasc1\\anexo_mascaras_grupo_3.png\n",
      "Imagen guardada en: C:\\cecs\\mascaras\\probando\\series_tiempo\\mascarasc1\\anexo_mascaras_grupo_4.png\n",
      "Imagen guardada en: C:\\cecs\\mascaras\\probando\\series_tiempo\\mascarasc1\\anexo_mascaras_grupo_5.png\n",
      "Imagen guardada en: C:\\cecs\\mascaras\\probando\\series_tiempo\\mascarasc1\\anexo_mascaras_grupo_6.png\n",
      "Imagen guardada en: C:\\cecs\\mascaras\\probando\\series_tiempo\\mascarasc1\\anexo_mascaras_grupo_7.png\n",
      "Imagen guardada en: C:\\cecs\\mascaras\\probando\\series_tiempo\\mascarasc1\\anexo_mascaras_grupo_8.png\n",
      "Imagen guardada en: C:\\cecs\\mascaras\\probando\\series_tiempo\\mascarasc1\\anexo_mascaras_grupo_9.png\n",
      "Imagen guardada en: C:\\cecs\\mascaras\\probando\\series_tiempo\\mascarasc1\\anexo_mascaras_grupo_10.png\n",
      "Imagen guardada en: C:\\cecs\\mascaras\\probando\\series_tiempo\\mascarasc1\\anexo_mascaras_grupo_11.png\n",
      "Imagen guardada en: C:\\cecs\\mascaras\\probando\\series_tiempo\\mascarasc1\\anexo_mascaras_grupo_12.png\n",
      "Imagen guardada en: C:\\cecs\\mascaras\\probando\\series_tiempo\\mascarasc1\\anexo_mascaras_grupo_13.png\n",
      "Imagen guardada en: C:\\cecs\\mascaras\\probando\\series_tiempo\\mascarasc1\\anexo_mascaras_grupo_14.png\n",
      "Imagen guardada en: C:\\cecs\\mascaras\\probando\\series_tiempo\\mascarasc1\\anexo_mascaras_grupo_15.png\n",
      "Imagen guardada en: C:\\cecs\\mascaras\\probando\\series_tiempo\\mascarasc1\\anexo_mascaras_grupo_16.png\n",
      "Imagen guardada en: C:\\cecs\\mascaras\\probando\\series_tiempo\\mascarasc1\\anexo_mascaras_grupo_17.png\n",
      "Imagen guardada en: C:\\cecs\\mascaras\\probando\\series_tiempo\\mascarasc1\\anexo_mascaras_grupo_18.png\n",
      "Imagen guardada en: C:\\cecs\\mascaras\\probando\\series_tiempo\\mascarasc1\\anexo_mascaras_grupo_19.png\n",
      "Imagen guardada en: C:\\cecs\\mascaras\\probando\\series_tiempo\\mascarasc1\\anexo_mascaras_grupo_20.png\n",
      "Imagen guardada en: C:\\cecs\\mascaras\\probando\\series_tiempo\\mascarasc1\\anexo_mascaras_grupo_21.png\n",
      "Imagen guardada en: C:\\cecs\\mascaras\\probando\\series_tiempo\\mascarasc1\\anexo_mascaras_grupo_22.png\n",
      "Imagen guardada en: C:\\cecs\\mascaras\\probando\\series_tiempo\\mascarasc1\\anexo_mascaras_grupo_23.png\n"
     ]
    }
   ],
   "source": [
    "import os\n",
    "import cv2\n",
    "import matplotlib.pyplot as plt\n",
    "import math\n",
    "\n",
    "# Ruta de la carpeta donde están las máscaras\n",
    "ruta_mascaras = r'C:\\cecs\\imagenes\\C1_segmentadas'\n",
    "# Ruta de la carpeta de guardado de las imágenes combinadas\n",
    "ruta_guardado = r'C:\\cecs\\mascaras\\probando\\series_tiempo\\mascarasc1'\n",
    "os.makedirs(ruta_guardado, exist_ok=True)\n",
    "\n",
    "# Listar todos los archivos de la carpeta y dividir en grupos de 10\n",
    "archivos = [f for f in sorted(os.listdir(ruta_mascaras)) if f.endswith(('.png', '.jpg', '.jpeg', '.tif', '.bmp'))]\n",
    "num_grupos = math.ceil(len(archivos) / 10)  # Número de grupos de 10\n",
    "\n",
    "# Procesar cada grupo de 10 archivos\n",
    "for i in range(num_grupos):\n",
    "    fig, axs = plt.subplots(2, 5, figsize=(15, 6))  # Crear una cuadrícula de 2 filas y 5 columnas\n",
    "    axs = axs.ravel()  # Aplanar para indexar fácilmente\n",
    "    \n",
    "    for j in range(10):\n",
    "        index = i * 10 + j\n",
    "        if index < len(archivos):\n",
    "            archivo = archivos[index]\n",
    "            path = os.path.join(ruta_mascaras, archivo)\n",
    "            mascara = cv2.imread(path, cv2.IMREAD_UNCHANGED)\n",
    "            axs[j].imshow(mascara, cmap='gray')\n",
    "            axs[j].set_title(archivo, fontsize=8)\n",
    "            axs[j].axis('off')\n",
    "        else:\n",
    "            axs[j].axis('off')  # Desactivar cualquier eje sobrante\n",
    "\n",
    "    # Guardar la figura del grupo en alta resolución\n",
    "    nombre_archivo_guardado = os.path.join(ruta_guardado, f\"anexo_mascaras_grupo_{i+1}.png\")\n",
    "    plt.tight_layout()\n",
    "    plt.savefig(nombre_archivo_guardado, dpi=300)\n",
    "    plt.close(fig)  # Cerrar la figura para liberar memoria\n",
    "\n",
    "    print(f\"Imagen guardada en: {nombre_archivo_guardado}\")\n"
   ]
  }
 ],
 "metadata": {
  "kernelspec": {
   "display_name": "Python 3 (ipykernel)",
   "language": "python",
   "name": "python3"
  },
  "language_info": {
   "codemirror_mode": {
    "name": "ipython",
    "version": 3
   },
   "file_extension": ".py",
   "mimetype": "text/x-python",
   "name": "python",
   "nbconvert_exporter": "python",
   "pygments_lexer": "ipython3",
   "version": "3.11.5"
  }
 },
 "nbformat": 4,
 "nbformat_minor": 5
}
